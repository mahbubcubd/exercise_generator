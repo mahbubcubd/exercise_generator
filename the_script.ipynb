{
 "cells": [
  {
   "cell_type": "code",
   "execution_count": null,
   "metadata": {},
   "outputs": [],
   "source": [
    "import json\n",
    "cat=json.loads(open(\"fixtures/categories.json\").read())\n",
    "mus=json.loads(open(\"fixtures/muscles.json\").read())\n",
    "exr=json.loads(open(\"fixtures/exercises.json\").read())\n",
    "bweight=json.loads(open(\"fixtures/bodyweight.json\").read()) # made from https://www.stackhealthy.com/complete-list-of-crossfit-exercises/"
   ]
  },
  {
   "cell_type": "code",
   "execution_count": null,
   "metadata": {},
   "outputs": [],
   "source": [
    "# Getting Exercise where language=2\n",
    "get_lang_2_exr=[]\n",
    "for i in exr:\n",
    "    try:\n",
    "        if i['fields']['language']==2:\n",
    "            get_lang_2_exr.append(i)\n",
    "    except Exception as e:\n",
    "        msg=\"error \"+str(e)"
   ]
  },
  {
   "cell_type": "code",
   "execution_count": null,
   "metadata": {},
   "outputs": [],
   "source": [
    "get_categories=[dict(id=x['pk'],option=str(x['pk'])+\"_\"+x['fields']['name']) for x in cat]\n",
    "get_muscles=[dict(id=x['pk'],option=str(x['pk'])+\"_\"+x['fields']['name']) for x in mus]"
   ]
  },
  {
   "cell_type": "code",
   "execution_count": null,
   "metadata": {},
   "outputs": [],
   "source": [
    "print(\"Please Choose A exercise categories\")\n",
    "for i in get_categories:\n",
    "    print(i['option'])\n",
    "print(\"---------------------------------------------------------------------\")\n",
    "print(\"Please write the category numbers. You can choose multiple categories at a time. Separate them with COMMA(,)\")\n",
    "print(\"For example: 3 5 6 \")\n",
    "user_cats=input(\"Select Categories: \")"
   ]
  },
  {
   "cell_type": "code",
   "execution_count": null,
   "metadata": {},
   "outputs": [],
   "source": [
    "print(\"Please Choose A Muscles\")\n",
    "for i in get_muscles:\n",
    "    print(i['option'])\n",
    "print(\"---------------------------------------------------------------------\")\n",
    "print(\"Please write the muscles numbers. You can choose multiple muscles at a time. Separate them with a COMMA(,)\")\n",
    "print(\"For example: 3 5 6 \")\n",
    "user_mus=input(\"Select Muscles: \")"
   ]
  },
  {
   "cell_type": "code",
   "execution_count": null,
   "metadata": {},
   "outputs": [],
   "source": [
    "selected_cats=[int(x) for x in user_cats.split(\",\")]\n",
    "selected_mus=[int(x) for x in user_mus.split(\",\")]"
   ]
  }
 ],
 "metadata": {
  "kernelspec": {
   "display_name": "Python 3",
   "language": "python",
   "name": "python3"
  },
  "language_info": {
   "codemirror_mode": {
    "name": "ipython",
    "version": 3
   },
   "file_extension": ".py",
   "mimetype": "text/x-python",
   "name": "python",
   "nbconvert_exporter": "python",
   "pygments_lexer": "ipython3",
   "version": "3.7.5"
  }
 },
 "nbformat": 4,
 "nbformat_minor": 4
}
