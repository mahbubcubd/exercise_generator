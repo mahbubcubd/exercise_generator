{
 "cells": [
  {
   "cell_type": "markdown",
   "metadata": {},
   "source": [
    "## Problem Statement\n",
    "\n",
    "I need a command-line based python 3 script to Generate workout routines for me on my Ubuntu server.\n",
    "\n",
    "I need to be able to generate workout based on Categories or muscles (or at random) from the Categories.json and muscles.json files at this page: https://github.com/wger-project/wger/tree/master/wger/exercises/fixtures\n",
    "\n",
    "I need it to use the exercises.json file in that same page to generate the list. I need you to only reference exercises where \"Language\" equals 2.\n",
    "\n",
    "I need to be able to specify the number of different kind of exercises (1 - infinity)\n",
    "\n",
    "So for example, I run the script and it asks me which muscle groups or categories (and lists them) I want to hit. I list them (so like 1 - abs, 2 - calves, etc. And I enter 1 and 2). And then it asks how many exercises, and I put in a number. And then it generates a random workout for the day.\n",
    "\n",
    "In addition, I need another json of bodyweight exercises. They are on this website: https://www.stackhealthy.com/complete-list-of-crossfit-exercises/ and are under the \"Bodyweight\" section. (The list starts with 'Air Squats, Assisted Pull-up, Back extension, ...)\n",
    "\n",
    "I need to be able in the script mentioned above to also be able to specify the number of bodyweight exercises (so after saying I want to do something like abs and calves, then it will ask how many bodyweight exercises I want to do and I can input 0-whatever). Then it generates the workout of the day.\n"
   ]
  },
  {
   "cell_type": "code",
   "execution_count": 38,
   "metadata": {},
   "outputs": [],
   "source": [
    "import json\n",
    "cat=json.loads(open(\"fixtures/categories.json\").read())\n",
    "mus=json.loads(open(\"fixtures/muscles.json\").read())\n",
    "exr=json.loads(open(\"fixtures/exercises.json\").read())\n",
    "bweight=json.loads(open(\"fixtures/bodyweight.json\").read()) # made from https://www.stackhealthy.com/complete-list-of-crossfit-exercises/"
   ]
  },
  {
   "cell_type": "markdown",
   "metadata": {},
   "source": [
    "### Categories Data"
   ]
  },
  {
   "cell_type": "code",
   "execution_count": 32,
   "metadata": {},
   "outputs": [
    {
     "data": {
      "text/plain": [
       "7"
      ]
     },
     "execution_count": 32,
     "metadata": {},
     "output_type": "execute_result"
    }
   ],
   "source": [
    "len(cat)"
   ]
  },
  {
   "cell_type": "code",
   "execution_count": 15,
   "metadata": {},
   "outputs": [
    {
     "data": {
      "text/plain": [
       "dict_keys(['pk', 'fields', 'model'])"
      ]
     },
     "execution_count": 15,
     "metadata": {},
     "output_type": "execute_result"
    }
   ],
   "source": [
    "cat[0].keys()"
   ]
  },
  {
   "cell_type": "code",
   "execution_count": 20,
   "metadata": {},
   "outputs": [
    {
     "data": {
      "text/plain": [
       "{'pk': 8, 'fields': {'name': 'Arms'}, 'model': 'exercises.exercisecategory'}"
      ]
     },
     "execution_count": 20,
     "metadata": {},
     "output_type": "execute_result"
    }
   ],
   "source": [
    "cat[0]"
   ]
  },
  {
   "cell_type": "code",
   "execution_count": 35,
   "metadata": {},
   "outputs": [
    {
     "name": "stdout",
     "output_type": "stream",
     "text": [
      "8 Arms\n",
      "9 Legs\n",
      "10 Abs\n",
      "11 Chest\n",
      "12 Back\n",
      "13 Shoulders\n",
      "14 Calves\n"
     ]
    }
   ],
   "source": [
    "for i in cat:\n",
    "    print(i[\"pk\"],i[\"fields\"][\"name\"])"
   ]
  },
  {
   "cell_type": "markdown",
   "metadata": {},
   "source": [
    "## Muslces Data"
   ]
  },
  {
   "cell_type": "code",
   "execution_count": 36,
   "metadata": {},
   "outputs": [
    {
     "data": {
      "text/plain": [
       "16"
      ]
     },
     "execution_count": 36,
     "metadata": {},
     "output_type": "execute_result"
    }
   ],
   "source": [
    "len(mus)"
   ]
  },
  {
   "cell_type": "code",
   "execution_count": 22,
   "metadata": {},
   "outputs": [
    {
     "data": {
      "text/plain": [
       "dict_keys(['pk', 'model', 'fields'])"
      ]
     },
     "execution_count": 22,
     "metadata": {},
     "output_type": "execute_result"
    }
   ],
   "source": [
    "mus[0].keys()"
   ]
  },
  {
   "cell_type": "code",
   "execution_count": 24,
   "metadata": {},
   "outputs": [
    {
     "data": {
      "text/plain": [
       "{'pk': 2,\n",
       " 'model': 'exercises.muscle',\n",
       " 'fields': {'is_front': True, 'name': 'Anterior deltoid'}}"
      ]
     },
     "execution_count": 24,
     "metadata": {},
     "output_type": "execute_result"
    }
   ],
   "source": [
    "mus[0]"
   ]
  },
  {
   "cell_type": "code",
   "execution_count": 37,
   "metadata": {},
   "outputs": [
    {
     "name": "stdout",
     "output_type": "stream",
     "text": [
      "2 Anterior deltoid\n",
      "1 Biceps brachii\n",
      "11 Biceps femoris\n",
      "13 Brachialis\n",
      "16 Erector spinae\n",
      "7 Gastrocnemius\n",
      "8 Gluteus maximus\n",
      "12 Latissimus dorsi\n",
      "14 Obliquus externus abdominis\n",
      "4 Pectoralis major\n",
      "10 Quadriceps femoris\n",
      "6 Rectus abdominis\n",
      "3 Serratus anterior\n",
      "15 Soleus\n",
      "9 Trapezius\n",
      "5 Triceps brachii\n"
     ]
    }
   ],
   "source": [
    "for i in mus:\n",
    "    print(i['pk'],i['fields']['name'])"
   ]
  },
  {
   "cell_type": "markdown",
   "metadata": {},
   "source": [
    "## Exercise Data"
   ]
  },
  {
   "cell_type": "code",
   "execution_count": 26,
   "metadata": {},
   "outputs": [
    {
     "data": {
      "text/plain": [
       "dict_keys(['pk', 'fields', 'model'])"
      ]
     },
     "execution_count": 26,
     "metadata": {},
     "output_type": "execute_result"
    }
   ],
   "source": [
    "exr[0].keys()"
   ]
  },
  {
   "cell_type": "code",
   "execution_count": 27,
   "metadata": {},
   "outputs": [
    {
     "data": {
      "text/plain": [
       "{'pk': 1,\n",
       " 'fields': {'license_author': 'wger.de',\n",
       "  'status': '2',\n",
       "  'language': 1,\n",
       "  'muscles_secondary': [],\n",
       "  'description': '<p>Stelle dich mit schulterbreitem Stand vor dem Kabelzug, beuge den Rücken sehr leicht nach vorn und greife das Seil. Ziehe nun nach unten, wobei die Ellenbogen sich während der ganzen Übung nicht von der Stelle bewegen sollen. Wenn die Arme ausgestreckt sind, drehe die Hände nach außen. Gehe langsam zur Ausgansposition zurück.</p>',\n",
       "  'equipment': [],\n",
       "  'creation_date': None,\n",
       "  'category': 8,\n",
       "  'uuid': 'b83e3d85-a53d-4939-a61c-7baa2e94d358',\n",
       "  'muscles': [5],\n",
       "  'license': 1,\n",
       "  'name': 'Trizeps Seildrücken'},\n",
       " 'model': 'exercises.exercise'}"
      ]
     },
     "execution_count": 27,
     "metadata": {},
     "output_type": "execute_result"
    }
   ],
   "source": [
    "exr[0]"
   ]
  },
  {
   "cell_type": "code",
   "execution_count": 31,
   "metadata": {},
   "outputs": [
    {
     "data": {
      "text/plain": [
       "108"
      ]
     },
     "execution_count": 31,
     "metadata": {},
     "output_type": "execute_result"
    }
   ],
   "source": [
    "# Recommended to find language 2 in exercise dataset but sometime language key is missing\n",
    "error_index=[]\n",
    "k=0\n",
    "for i in exr:\n",
    "    try:\n",
    "        v = i['fields']['language']\n",
    "    except:\n",
    "        error_index.append(k)\n",
    "    k+=1\n",
    "len(error_index)"
   ]
  },
  {
   "cell_type": "code",
   "execution_count": 30,
   "metadata": {},
   "outputs": [
    {
     "data": {
      "text/plain": [
       "{'pk': 20,\n",
       " 'fields': {'exercise': 46, 'comment': 'Ellenbogen am Körper, nicht bewegen'},\n",
       " 'model': 'exercises.exercisecomment'}"
      ]
     },
     "execution_count": 30,
     "metadata": {},
     "output_type": "execute_result"
    }
   ],
   "source": [
    "exr[360]"
   ]
  },
  {
   "cell_type": "code",
   "execution_count": null,
   "metadata": {},
   "outputs": [],
   "source": []
  }
 ],
 "metadata": {
  "kernelspec": {
   "display_name": "Python 3",
   "language": "python",
   "name": "python3"
  },
  "language_info": {
   "codemirror_mode": {
    "name": "ipython",
    "version": 3
   },
   "file_extension": ".py",
   "mimetype": "text/x-python",
   "name": "python",
   "nbconvert_exporter": "python",
   "pygments_lexer": "ipython3",
   "version": "3.7.5"
  }
 },
 "nbformat": 4,
 "nbformat_minor": 4
}
