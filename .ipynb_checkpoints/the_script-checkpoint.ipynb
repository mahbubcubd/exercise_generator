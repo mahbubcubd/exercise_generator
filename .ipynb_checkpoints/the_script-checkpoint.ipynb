{
 "cells": [
  {
   "cell_type": "code",
   "execution_count": 1,
   "metadata": {},
   "outputs": [],
   "source": [
    "import json\n",
    "cat=json.loads(open(\"fixtures/categories.json\").read())\n",
    "mus=json.loads(open(\"fixtures/muscles.json\").read())\n",
    "exr=json.loads(open(\"fixtures/exercises.json\").read())\n",
    "bweight=json.loads(open(\"fixtures/bodyweight.json\").read()) # made from https://www.stackhealthy.com/complete-list-of-crossfit-exercises/"
   ]
  },
  {
   "cell_type": "code",
   "execution_count": 2,
   "metadata": {},
   "outputs": [],
   "source": [
    "# Getting Exercise where language=2\n",
    "get_lang_2_exr=[]\n",
    "for i in exr:\n",
    "    try:\n",
    "        if i['fields']['language']==2:\n",
    "            get_lang_2_exr.append(i)\n",
    "    except Exception as e:\n",
    "        msg=\"error \"+str(e)"
   ]
  },
  {
   "cell_type": "code",
   "execution_count": 3,
   "metadata": {},
   "outputs": [],
   "source": [
    "get_categories=[dict(id=x['pk'],option=str(x['pk'])+\"_\"+x['fields']['name']) for x in cat]\n",
    "get_muscles=[dict(id=x['pk'],option=str(x['pk'])+\"_\"+x['fields']['name']) for x in mus]"
   ]
  },
  {
   "cell_type": "code",
   "execution_count": 4,
   "metadata": {},
   "outputs": [
    {
     "name": "stdout",
     "output_type": "stream",
     "text": [
      "Please Choose A exercise categories\n",
      "8_Arms\n",
      "9_Legs\n",
      "10_Abs\n",
      "11_Chest\n",
      "12_Back\n",
      "13_Shoulders\n",
      "14_Calves\n",
      "---------------------------------------------------------------------\n",
      "Please write the category numbers. You can choose multiple categories at a time. Separate them with COMMA(,)\n",
      "For example: 3 5 6 \n",
      "Select Categories: 9\n"
     ]
    }
   ],
   "source": [
    "print(\"Please Choose A exercise categories\")\n",
    "for i in get_categories:\n",
    "    print(i['option'])\n",
    "print(\"---------------------------------------------------------------------\")\n",
    "print(\"Please write the category numbers. You can choose multiple categories at a time. Separate them with COMMA(,)\")\n",
    "print(\"For example: 3 5 6 \")\n",
    "user_cats=input(\"Select Categories: \")"
   ]
  },
  {
   "cell_type": "code",
   "execution_count": 5,
   "metadata": {},
   "outputs": [
    {
     "name": "stdout",
     "output_type": "stream",
     "text": [
      "Please Choose A Muscles\n",
      "2_Anterior deltoid\n",
      "1_Biceps brachii\n",
      "11_Biceps femoris\n",
      "13_Brachialis\n",
      "16_Erector spinae\n",
      "7_Gastrocnemius\n",
      "8_Gluteus maximus\n",
      "12_Latissimus dorsi\n",
      "14_Obliquus externus abdominis\n",
      "4_Pectoralis major\n",
      "10_Quadriceps femoris\n",
      "6_Rectus abdominis\n",
      "3_Serratus anterior\n",
      "15_Soleus\n",
      "9_Trapezius\n",
      "5_Triceps brachii\n",
      "---------------------------------------------------------------------\n",
      "Please write the muscles numbers. You can choose multiple muscles at a time. Separate them with a COMMA(,)\n",
      "For example: 3 5 6 \n",
      "Select Muscles: 6\n"
     ]
    }
   ],
   "source": [
    "print(\"Please Choose A Muscles\")\n",
    "for i in get_muscles:\n",
    "    print(i['option'])\n",
    "print(\"---------------------------------------------------------------------\")\n",
    "print(\"Please write the muscles numbers. You can choose multiple muscles at a time. Separate them with a COMMA(,)\")\n",
    "print(\"For example: 3 5 6 \")\n",
    "user_mus=input(\"Select Muscles: \")"
   ]
  },
  {
   "cell_type": "code",
   "execution_count": 6,
   "metadata": {},
   "outputs": [],
   "source": [
    "selected_cats=[int(x) for x in user_cats.split(\",\")]\n",
    "selected_mus=[int(x) for x in user_mus.split(\",\")]"
   ]
  }
 ],
 "metadata": {
  "kernelspec": {
   "display_name": "Python 3",
   "language": "python",
   "name": "python3"
  },
  "language_info": {
   "codemirror_mode": {
    "name": "ipython",
    "version": 3
   },
   "file_extension": ".py",
   "mimetype": "text/x-python",
   "name": "python",
   "nbconvert_exporter": "python",
   "pygments_lexer": "ipython3",
   "version": "3.7.5"
  }
 },
 "nbformat": 4,
 "nbformat_minor": 4
}
